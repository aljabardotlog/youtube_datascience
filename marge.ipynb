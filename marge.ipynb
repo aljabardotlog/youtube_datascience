{
 "cells": [
  {
   "cell_type": "code",
   "execution_count": 1,
   "metadata": {
    "collapsed": true
   },
   "outputs": [],
   "source": [
    "#import pandas\n",
    "import pandas as pd"
   ]
  },
  {
   "cell_type": "code",
   "execution_count": null,
   "outputs": [],
   "source": [
    "#load csv files\n",
    "biodata = pd.read_csv(\"adl_biodata.csv\", delimiter=';')\n",
    "covid = pd.read_csv(\"status_covid.csv\", delimiter=';')"
   ],
   "metadata": {
    "collapsed": false,
    "pycharm": {
     "name": "#%%\n"
    }
   }
  },
  {
   "cell_type": "code",
   "execution_count": null,
   "outputs": [],
   "source": [
    "#android_devices.csv header output\n",
    "biodata.head(5)"
   ],
   "metadata": {
    "collapsed": false,
    "pycharm": {
     "name": "#%%\n"
    }
   }
  },
  {
   "cell_type": "code",
   "execution_count": null,
   "outputs": [],
   "source": [
    "#user_devices.csv header output\n",
    "covid.head(5)"
   ],
   "metadata": {
    "collapsed": false,
    "pycharm": {
     "name": "#%%\n"
    }
   }
  },
  {
   "cell_type": "code",
   "execution_count": null,
   "outputs": [],
   "source": [
    "#Join Files\n",
    "#In SQL there 2 tables such as biodata and covid\n",
    "#in sql \"select * from biodata inner join covid where biodata.id_covid=covid.id_covid limit 5\"\n",
    "res = pd.merge(biodata,\n",
    "                 covid[['id_covid','ket_id']],\n",
    "                 on='id_covid',\n",
    "                 how='left')\n",
    "res.count()"
   ],
   "metadata": {
    "collapsed": false,
    "pycharm": {
     "name": "#%%\n"
    }
   }
  },
  {
   "cell_type": "code",
   "execution_count": null,
   "outputs": [],
   "source": [
    "res_data = res[['id_orang','nama','jen_kel','umur','status','ket_id']]\n",
    "res_data.count()"
   ],
   "metadata": {
    "collapsed": false,
    "pycharm": {
     "name": "#%%\n"
    }
   }
  },
  {
   "cell_type": "code",
   "execution_count": null,
   "outputs": [],
   "source": [
    "#where status = Kawin\n",
    "res_data = res[res.id_orang == 48]\n",
    "res_data"
   ],
   "metadata": {
    "collapsed": false,
    "pycharm": {
     "name": "#%%\n"
    }
   }
  },
  {
   "cell_type": "code",
   "execution_count": null,
   "outputs": [],
   "source": [
    "#where status = kawin and umur > 25\n",
    "res_result = res[(res.ket_id == 'positif') & (res.umur > 25)]\n",
    "res_result.count()"
   ],
   "metadata": {
    "collapsed": false,
    "pycharm": {
     "name": "#%%\n"
    }
   }
  },
  {
   "cell_type": "code",
   "execution_count": null,
   "outputs": [],
   "source": [
    "#order by id_orang\n",
    "res_result.sort_values(by=['id_orang'], ascending=True)"
   ],
   "metadata": {
    "collapsed": false,
    "pycharm": {
     "name": "#%%\n"
    }
   }
  },
  {
   "cell_type": "code",
   "execution_count": null,
   "outputs": [],
   "source": [],
   "metadata": {
    "collapsed": false,
    "pycharm": {
     "name": "#%%\n"
    }
   }
  },
  {
   "cell_type": "code",
   "execution_count": 30,
   "metadata": {},
   "outputs": [],
   "source": []
  },
  {
   "cell_type": "code",
   "execution_count": 31,
   "metadata": {},
   "outputs": [
    {
     "output_type": "execute_result",
     "data": {
      "text/plain": "   id_orang nama jen_kel  umur       status  id_covid\n0         1    A       L    20        Kawin         3\n1         2    B       P    21  Belum Kawin         2\n2         3    C       L    19        Kawin         1\n3         4    D       P    17  Belum Kawin         3\n4         5    E       L    16        Kawin         2",
      "text/html": "<div>\n<style scoped>\n    .dataframe tbody tr th:only-of-type {\n        vertical-align: middle;\n    }\n\n    .dataframe tbody tr th {\n        vertical-align: top;\n    }\n\n    .dataframe thead th {\n        text-align: right;\n    }\n</style>\n<table border=\"1\" class=\"dataframe\">\n  <thead>\n    <tr style=\"text-align: right;\">\n      <th></th>\n      <th>id_orang</th>\n      <th>nama</th>\n      <th>jen_kel</th>\n      <th>umur</th>\n      <th>status</th>\n      <th>id_covid</th>\n    </tr>\n  </thead>\n  <tbody>\n    <tr>\n      <th>0</th>\n      <td>1</td>\n      <td>A</td>\n      <td>L</td>\n      <td>20</td>\n      <td>Kawin</td>\n      <td>3</td>\n    </tr>\n    <tr>\n      <th>1</th>\n      <td>2</td>\n      <td>B</td>\n      <td>P</td>\n      <td>21</td>\n      <td>Belum Kawin</td>\n      <td>2</td>\n    </tr>\n    <tr>\n      <th>2</th>\n      <td>3</td>\n      <td>C</td>\n      <td>L</td>\n      <td>19</td>\n      <td>Kawin</td>\n      <td>1</td>\n    </tr>\n    <tr>\n      <th>3</th>\n      <td>4</td>\n      <td>D</td>\n      <td>P</td>\n      <td>17</td>\n      <td>Belum Kawin</td>\n      <td>3</td>\n    </tr>\n    <tr>\n      <th>4</th>\n      <td>5</td>\n      <td>E</td>\n      <td>L</td>\n      <td>16</td>\n      <td>Kawin</td>\n      <td>2</td>\n    </tr>\n  </tbody>\n</table>\n</div>"
     },
     "metadata": {},
     "execution_count": 31
    }
   ],
   "source": [
    "#android_devices.csv header output\n",
    "biodata.head(5)"
   ]
  },
  {
   "cell_type": "code",
   "execution_count": 32,
   "metadata": {},
   "outputs": [
    {
     "output_type": "execute_result",
     "data": {
      "text/plain": "   id_covid    ket_id\n0         1   positif\n1         2       odp\n2         3       pdp\n3         4       otg\n4         5  negative",
      "text/html": "<div>\n<style scoped>\n    .dataframe tbody tr th:only-of-type {\n        vertical-align: middle;\n    }\n\n    .dataframe tbody tr th {\n        vertical-align: top;\n    }\n\n    .dataframe thead th {\n        text-align: right;\n    }\n</style>\n<table border=\"1\" class=\"dataframe\">\n  <thead>\n    <tr style=\"text-align: right;\">\n      <th></th>\n      <th>id_covid</th>\n      <th>ket_id</th>\n    </tr>\n  </thead>\n  <tbody>\n    <tr>\n      <th>0</th>\n      <td>1</td>\n      <td>positif</td>\n    </tr>\n    <tr>\n      <th>1</th>\n      <td>2</td>\n      <td>odp</td>\n    </tr>\n    <tr>\n      <th>2</th>\n      <td>3</td>\n      <td>pdp</td>\n    </tr>\n    <tr>\n      <th>3</th>\n      <td>4</td>\n      <td>otg</td>\n    </tr>\n    <tr>\n      <th>4</th>\n      <td>5</td>\n      <td>negative</td>\n    </tr>\n  </tbody>\n</table>\n</div>"
     },
     "metadata": {},
     "execution_count": 32
    }
   ],
   "source": [
    "#user_devices.csv header output\n",
    "covid.head(5)"
   ]
  },
  {
   "cell_type": "code",
   "execution_count": 33,
   "metadata": {},
   "outputs": [
    {
     "output_type": "execute_result",
     "data": {
      "text/plain": "id_orang    100\nnama        100\njen_kel     100\numur        100\nstatus      100\nid_covid    100\nket_id      100\ndtype: int64"
     },
     "metadata": {},
     "execution_count": 33
    }
   ],
   "source": [
    "#Join Files\n",
    "#In SQL there 2 tables such as biodata and covid\n",
    "#in sql \"select * from biodata inner join covid where biodata.id_covid=covid.id_covid limit 5\"\n",
    "res = pd.merge(biodata,\n",
    "                 covid[['id_covid','ket_id']],\n",
    "                 on='id_covid',\n",
    "                 how='left')\n",
    "res.count()"
   ]
  },
  {
   "cell_type": "code",
   "execution_count": 39,
   "metadata": {},
   "outputs": [
    {
     "output_type": "execute_result",
     "data": {
      "text/plain": "id_orang    100\nnama        100\njen_kel     100\numur        100\nstatus      100\nket_id      100\ndtype: int64"
     },
     "metadata": {},
     "execution_count": 39
    }
   ],
   "source": [
    "res_data = res[['id_orang','nama','jen_kel','umur','status','ket_id']]\n",
    "res_data.count()"
   ]
  },
  {
   "cell_type": "code",
   "execution_count": 40,
   "metadata": {},
   "outputs": [
    {
     "output_type": "execute_result",
     "data": {
      "text/plain": "    id_orang nama jen_kel  umur       status  id_covid    ket_id\n47        48    L       P    27  Belum Kawin         5  negative",
      "text/html": "<div>\n<style scoped>\n    .dataframe tbody tr th:only-of-type {\n        vertical-align: middle;\n    }\n\n    .dataframe tbody tr th {\n        vertical-align: top;\n    }\n\n    .dataframe thead th {\n        text-align: right;\n    }\n</style>\n<table border=\"1\" class=\"dataframe\">\n  <thead>\n    <tr style=\"text-align: right;\">\n      <th></th>\n      <th>id_orang</th>\n      <th>nama</th>\n      <th>jen_kel</th>\n      <th>umur</th>\n      <th>status</th>\n      <th>id_covid</th>\n      <th>ket_id</th>\n    </tr>\n  </thead>\n  <tbody>\n    <tr>\n      <th>47</th>\n      <td>48</td>\n      <td>L</td>\n      <td>P</td>\n      <td>27</td>\n      <td>Belum Kawin</td>\n      <td>5</td>\n      <td>negative</td>\n    </tr>\n  </tbody>\n</table>\n</div>"
     },
     "metadata": {},
     "execution_count": 40
    }
   ],
   "source": [
    "#where status = Kawin\n",
    "res_data = res[res.id_orang == 48]\n",
    "res_data"
   ]
  },
  {
   "cell_type": "code",
   "execution_count": 42,
   "metadata": {},
   "outputs": [
    {
     "output_type": "execute_result",
     "data": {
      "text/plain": "id_orang    19\nnama        19\njen_kel     19\numur        19\nstatus      19\nid_covid    19\nket_id      19\ndtype: int64"
     },
     "metadata": {},
     "execution_count": 42
    }
   ],
   "source": [
    "#where status = kawin and umur > 25\n",
    "res_result = res[(res.ket_id == 'positif') & (res.umur > 25)]\n",
    "res_result.count()"
   ]
  },
  {
   "cell_type": "code",
   "execution_count": 43,
   "metadata": {},
   "outputs": [
    {
     "output_type": "execute_result",
     "data": {
      "text/plain": "    id_orang nama jen_kel  umur       status  id_covid   ket_id\n5          6    F       L    28  Belum Kawin         1  positif\n24        25    Y       L    29        Kawin         1  positif\n25        26    Z       P    29  Belum Kawin         1  positif\n26        27   AA       L    28        Kawin         1  positif\n27        28   AB       P    29  Belum Kawin         1  positif\n28        29   AC       L    27        Kawin         1  positif\n36        37    A       L    32        Kawin         1  positif\n50        51    O       L    27        Kawin         1  positif\n55        56    T       P    27  Belum Kawin         1  positif\n61        62    Z       P    27  Belum Kawin         1  positif\n65        66   AD       P    27  Belum Kawin         1  positif\n69        70   AH       P    27  Belum Kawin         1  positif\n70        71   AI       L    27        Kawin         1  positif\n74        75    C       L    27        Kawin         1  positif\n75        76    D       P    27  Belum Kawin         1  positif\n81        82    J       P    27  Belum Kawin         1  positif\n86        87    O       L    27        Kawin         1  positif\n94        95    W       L    27        Kawin         1  positif\n97        98    Z       P    27  Belum Kawin         1  positif",
      "text/html": "<div>\n<style scoped>\n    .dataframe tbody tr th:only-of-type {\n        vertical-align: middle;\n    }\n\n    .dataframe tbody tr th {\n        vertical-align: top;\n    }\n\n    .dataframe thead th {\n        text-align: right;\n    }\n</style>\n<table border=\"1\" class=\"dataframe\">\n  <thead>\n    <tr style=\"text-align: right;\">\n      <th></th>\n      <th>id_orang</th>\n      <th>nama</th>\n      <th>jen_kel</th>\n      <th>umur</th>\n      <th>status</th>\n      <th>id_covid</th>\n      <th>ket_id</th>\n    </tr>\n  </thead>\n  <tbody>\n    <tr>\n      <th>5</th>\n      <td>6</td>\n      <td>F</td>\n      <td>L</td>\n      <td>28</td>\n      <td>Belum Kawin</td>\n      <td>1</td>\n      <td>positif</td>\n    </tr>\n    <tr>\n      <th>24</th>\n      <td>25</td>\n      <td>Y</td>\n      <td>L</td>\n      <td>29</td>\n      <td>Kawin</td>\n      <td>1</td>\n      <td>positif</td>\n    </tr>\n    <tr>\n      <th>25</th>\n      <td>26</td>\n      <td>Z</td>\n      <td>P</td>\n      <td>29</td>\n      <td>Belum Kawin</td>\n      <td>1</td>\n      <td>positif</td>\n    </tr>\n    <tr>\n      <th>26</th>\n      <td>27</td>\n      <td>AA</td>\n      <td>L</td>\n      <td>28</td>\n      <td>Kawin</td>\n      <td>1</td>\n      <td>positif</td>\n    </tr>\n    <tr>\n      <th>27</th>\n      <td>28</td>\n      <td>AB</td>\n      <td>P</td>\n      <td>29</td>\n      <td>Belum Kawin</td>\n      <td>1</td>\n      <td>positif</td>\n    </tr>\n    <tr>\n      <th>28</th>\n      <td>29</td>\n      <td>AC</td>\n      <td>L</td>\n      <td>27</td>\n      <td>Kawin</td>\n      <td>1</td>\n      <td>positif</td>\n    </tr>\n    <tr>\n      <th>36</th>\n      <td>37</td>\n      <td>A</td>\n      <td>L</td>\n      <td>32</td>\n      <td>Kawin</td>\n      <td>1</td>\n      <td>positif</td>\n    </tr>\n    <tr>\n      <th>50</th>\n      <td>51</td>\n      <td>O</td>\n      <td>L</td>\n      <td>27</td>\n      <td>Kawin</td>\n      <td>1</td>\n      <td>positif</td>\n    </tr>\n    <tr>\n      <th>55</th>\n      <td>56</td>\n      <td>T</td>\n      <td>P</td>\n      <td>27</td>\n      <td>Belum Kawin</td>\n      <td>1</td>\n      <td>positif</td>\n    </tr>\n    <tr>\n      <th>61</th>\n      <td>62</td>\n      <td>Z</td>\n      <td>P</td>\n      <td>27</td>\n      <td>Belum Kawin</td>\n      <td>1</td>\n      <td>positif</td>\n    </tr>\n    <tr>\n      <th>65</th>\n      <td>66</td>\n      <td>AD</td>\n      <td>P</td>\n      <td>27</td>\n      <td>Belum Kawin</td>\n      <td>1</td>\n      <td>positif</td>\n    </tr>\n    <tr>\n      <th>69</th>\n      <td>70</td>\n      <td>AH</td>\n      <td>P</td>\n      <td>27</td>\n      <td>Belum Kawin</td>\n      <td>1</td>\n      <td>positif</td>\n    </tr>\n    <tr>\n      <th>70</th>\n      <td>71</td>\n      <td>AI</td>\n      <td>L</td>\n      <td>27</td>\n      <td>Kawin</td>\n      <td>1</td>\n      <td>positif</td>\n    </tr>\n    <tr>\n      <th>74</th>\n      <td>75</td>\n      <td>C</td>\n      <td>L</td>\n      <td>27</td>\n      <td>Kawin</td>\n      <td>1</td>\n      <td>positif</td>\n    </tr>\n    <tr>\n      <th>75</th>\n      <td>76</td>\n      <td>D</td>\n      <td>P</td>\n      <td>27</td>\n      <td>Belum Kawin</td>\n      <td>1</td>\n      <td>positif</td>\n    </tr>\n    <tr>\n      <th>81</th>\n      <td>82</td>\n      <td>J</td>\n      <td>P</td>\n      <td>27</td>\n      <td>Belum Kawin</td>\n      <td>1</td>\n      <td>positif</td>\n    </tr>\n    <tr>\n      <th>86</th>\n      <td>87</td>\n      <td>O</td>\n      <td>L</td>\n      <td>27</td>\n      <td>Kawin</td>\n      <td>1</td>\n      <td>positif</td>\n    </tr>\n    <tr>\n      <th>94</th>\n      <td>95</td>\n      <td>W</td>\n      <td>L</td>\n      <td>27</td>\n      <td>Kawin</td>\n      <td>1</td>\n      <td>positif</td>\n    </tr>\n    <tr>\n      <th>97</th>\n      <td>98</td>\n      <td>Z</td>\n      <td>P</td>\n      <td>27</td>\n      <td>Belum Kawin</td>\n      <td>1</td>\n      <td>positif</td>\n    </tr>\n  </tbody>\n</table>\n</div>"
     },
     "metadata": {},
     "execution_count": 43
    }
   ],
   "source": [
    "#order by id_orang\n",
    "res_result.sort_values(by=['id_orang'], ascending=True)"
   ]
  },
  {
   "cell_type": "code",
   "execution_count": null,
   "metadata": {},
   "outputs": [],
   "source": []
  }
 ],
 "metadata": {
  "kernelspec": {
   "display_name": "Python 3",
   "language": "${KERNEL_SPEC_LANGUAGE}",
   "name": "python3"
  },
  "language_info": {
   "codemirror_mode": {
    "name": "ipython",
    "version": 2
   },
   "file_extension": ".py",
   "mimetype": "text/x-python",
   "name": "python",
   "nbconvert_exporter": "python",
   "pygments_lexer": "ipython2",
   "version": "3.7.7-final"
  }
 },
 "nbformat": 4,
 "nbformat_minor": 0
}
