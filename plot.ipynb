{
 "cells": [
  {
   "cell_type": "code",
   "execution_count": null,
   "metadata": {
    "collapsed": true
   },
   "outputs": [],
   "source": [
    "#import pandas\n",
    "import pandas as pd\n",
    "from matplotlib import pyplot as plt"
   ]
  },
  {
   "cell_type": "code",
   "execution_count": null,
   "outputs": [],
   "source": [
    "#load csv files\n",
    "biodata = pd.read_csv(\"adl_biodata.csv\", delimiter=';')\n",
    "covid = pd.read_csv(\"status_covid.csv\", delimiter=';')"
   ],
   "metadata": {
    "collapsed": false,
    "pycharm": {
     "name": "#%%\n"
    }
   }
  },
  {
   "cell_type": "code",
   "execution_count": null,
   "outputs": [],
   "source": [
    "#android_devices.csv header output\n",
    "biodata.head(5)"
   ],
   "metadata": {
    "collapsed": false,
    "pycharm": {
     "name": "#%%\n"
    }
   }
  },
  {
   "cell_type": "code",
   "execution_count": null,
   "outputs": [],
   "source": [
    "#user_devices.csv header output\n",
    "covid.head(5)"
   ],
   "metadata": {
    "collapsed": false,
    "pycharm": {
     "name": "#%%\n"
    }
   }
  },
  {
   "cell_type": "code",
   "execution_count": null,
   "outputs": [],
   "source": [
    "#Join Files\n",
    "#In SQL there 2 tables such as biodata and covid\n",
    "#in sql \"select * from biodata inner join covid where biodata.id_covid=covid.id_covid limit 5\"\n",
    "res = pd.merge(biodata,\n",
    "                 covid[['id_covid','ket_id']],\n",
    "                 on='id_covid',\n",
    "                 how='left')\n",
    "res.count()"
   ],
   "metadata": {
    "collapsed": false,
    "pycharm": {
     "name": "#%%\n"
    }
   }
  },
  {
   "cell_type": "code",
   "execution_count": null,
   "outputs": [],
   "source": [
    "res_data = res[['id_orang','nama','jen_kel','umur','status','ket_id']]\n",
    "res_data.count()"
   ],
   "metadata": {
    "collapsed": false,
    "pycharm": {
     "name": "#%%\n"
    }
   }
  },
  {
   "cell_type": "code",
   "execution_count": null,
   "outputs": [],
   "source": [
    "#where status = Kawin\n",
    "res_data = res[res.status == 'Kawin']\n",
    "sk = res_data.id_orang.count()"
   ],
   "metadata": {
    "collapsed": false,
    "pycharm": {
     "name": "#%%\n"
    }
   }
  },
  {
   "cell_type": "code",
   "execution_count": null,
   "metadata": {},
   "outputs": [],
   "source": [
    "#where status = Belum Kawin\n",
    "res_data = res[res.status == 'Belum Kawin']\n",
    "bk = res_data.id_orang.count()"
   ]
  },
  {
   "cell_type": "code",
   "execution_count": null,
   "metadata": {},
   "outputs": [],
   "source": [
    "#where status = Janda\n",
    "res_data = res[res.status == 'Janda']\n",
    "jd = res_data.id_orang.count()"
   ]
  },
  {
   "cell_type": "code",
   "execution_count": null,
   "metadata": {},
   "outputs": [],
   "source": [
    "#where status = Duda\n",
    "res_data = res[res.status == 'Duda']\n",
    "dd = res_data.id_orang.count()"
   ]
  },
  {
   "cell_type": "code",
   "execution_count": null,
   "metadata": {},
   "outputs": [],
   "source": [
    "x = ['Kawin','Belum Kawin','Janda','Duda']\n",
    "y = [sk,bk,jd,dd]\n",
    "plt.bar(x, y, align='center', color=['green', 'red', 'blue', 'yellow'])\n",
    "plt.ylabel('Jumlah')\n",
    "plt.title('Grafik Status')\n",
    "plt.show()"
   ]
  },
  {
   "cell_type": "code",
   "execution_count": null,
   "metadata": {},
   "outputs": [],
   "source": [
    "labels = 'Kawin','Belum Kawin','Janda','Duda'\n",
    "sizes = [sk,bk,jd,dd]\n",
    "colors = ['gold', 'yellowgreen', 'lightcoral', 'lightskyblue']\n",
    "explode = (0.1, 0.1, 0.1, 0.1)  # explode 1st slice\n",
    "\n",
    "# Plot\n",
    "plt.pie(sizes, explode=explode, labels=labels, colors=colors,\n",
    "autopct='%1.1f%%', shadow=True, startangle=140)\n",
    "\n",
    "plt.axis('equal')\n",
    "plt.show()"
   ]
  },
  {
   "cell_type": "code",
   "execution_count": null,
   "metadata": {},
   "outputs": [],
   "source": []
  }
 ],
 "metadata": {
  "kernelspec": {
   "display_name": "Python 3",
   "language": "${KERNEL_SPEC_LANGUAGE}",
   "name": "python3"
  },
  "language_info": {
   "codemirror_mode": {
    "name": "ipython",
    "version": 2
   },
   "file_extension": ".py",
   "mimetype": "text/x-python",
   "name": "python",
   "nbconvert_exporter": "python",
   "pygments_lexer": "ipython2",
   "version": "3.7.7-final"
  }
 },
 "nbformat": 4,
 "nbformat_minor": 0
}