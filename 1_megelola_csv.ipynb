{
  "nbformat": 4,
  "nbformat_minor": 0,
  "metadata": {
    "colab": {
      "name": "1_megelola_csv.ipynb",
      "provenance": [],
      "collapsed_sections": [],
      "authorship_tag": "ABX9TyNjFwwYLjKXoJPvUXEWryZD",
      "include_colab_link": true
    },
    "kernelspec": {
      "name": "python3",
      "display_name": "Python 3"
    }
  },
  "cells": [
    {
      "cell_type": "markdown",
      "metadata": {
        "id": "view-in-github",
        "colab_type": "text"
      },
      "source": [
        "<a href=\"https://colab.research.google.com/github/aljabardotlog/youtube_datascience/blob/master/1_megelola_csv.ipynb\" target=\"_parent\"><img src=\"https://colab.research.google.com/assets/colab-badge.svg\" alt=\"Open In Colab\"/></a>"
      ]
    },
    {
      "cell_type": "code",
      "metadata": {
        "id": "ZtLeq_3ijlQY",
        "colab_type": "code",
        "colab": {}
      },
      "source": [
        "#import libraries\n",
        "import pandas as pd"
      ],
      "execution_count": 0,
      "outputs": []
    },
    {
      "cell_type": "code",
      "metadata": {
        "id": "zDdX2Faekp2f",
        "colab_type": "code",
        "colab": {}
      },
      "source": [
        "#define file csv\n",
        "url = pd.read_csv(\"http://46.101.230.157/dilan/pandas_tutorial_read.csv\", delimiter=';', names = ['adl_datetime', 'event', 'country_name', 'country_id', 'source', 'location'])"
      ],
      "execution_count": 0,
      "outputs": []
    },
    {
      "cell_type": "code",
      "metadata": {
        "id": "vxJYeD25lTcB",
        "colab_type": "code",
        "colab": {}
      },
      "source": [
        "#file header 5 rows\n",
        "data_top = url.head()\n",
        "data_top"
      ],
      "execution_count": 0,
      "outputs": []
    },
    {
      "cell_type": "code",
      "metadata": {
        "id": "9-tA1g0JlWEv",
        "colab_type": "code",
        "colab": {}
      },
      "source": [
        "#file last 5 rows\n",
        "data_tail = url.tail()\n",
        "data_tail"
      ],
      "execution_count": 0,
      "outputs": []
    },
    {
      "cell_type": "code",
      "metadata": {
        "id": "hzNnhVMwqF3S",
        "colab_type": "code",
        "colab": {}
      },
      "source": [
        "#Random Choosen 5 rows\n",
        "data_random = url.sample(5)\n",
        "data_random"
      ],
      "execution_count": 0,
      "outputs": []
    },
    {
      "cell_type": "code",
      "metadata": {
        "id": "62jzhxzLqoFl",
        "colab_type": "code",
        "colab": {}
      },
      "source": [
        "data_random[['country_id', 'location']]"
      ],
      "execution_count": 0,
      "outputs": []
    },
    {
      "cell_type": "code",
      "metadata": {
        "id": "1WA-qfEcrBAG",
        "colab_type": "code",
        "colab": {}
      },
      "source": [
        "data_random.location"
      ],
      "execution_count": 0,
      "outputs": []
    },
    {
      "cell_type": "code",
      "metadata": {
        "id": "zu9bZitTrlO6",
        "colab_type": "code",
        "colab": {}
      },
      "source": [
        "countUrl = url[url.location == 'Asia']\n",
        "countUrl"
      ],
      "execution_count": 0,
      "outputs": []
    },
    {
      "cell_type": "code",
      "metadata": {
        "id": "gyTctwogr_hF",
        "colab_type": "code",
        "colab": {}
      },
      "source": [
        "countUrl.count()"
      ],
      "execution_count": 0,
      "outputs": []
    },
    {
      "cell_type": "code",
      "metadata": {
        "id": "KvTaq9fru3fw",
        "colab_type": "code",
        "colab": {}
      },
      "source": [
        ""
      ],
      "execution_count": 0,
      "outputs": []
    }
  ]
}